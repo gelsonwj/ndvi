{
 "cells": [
  {
   "cell_type": "code",
   "execution_count": 3,
   "metadata": {},
   "outputs": [
    {
     "name": "stdout",
     "output_type": "stream",
     "text": [
      "Exporting...\n",
      "Exporting...\n",
      "Exporting...\n",
      "Exporting...\n",
      "Exporting...\n",
      "Exporting...\n",
      "Exporting...\n"
     ]
    },
    {
     "ename": "FileNotFoundError",
     "evalue": "[Errno 2] No such file or directory: 'GEE_exports/NDVI_timeseries.csv'",
     "output_type": "error",
     "traceback": [
      "\u001b[1;31m---------------------------------------------------------------------------\u001b[0m",
      "\u001b[1;31mFileNotFoundError\u001b[0m                         Traceback (most recent call last)",
      "Cell \u001b[1;32mIn[3], line 49\u001b[0m\n\u001b[0;32m     46\u001b[0m ndvi_values \u001b[39m=\u001b[39m []\n\u001b[0;32m     47\u001b[0m dates \u001b[39m=\u001b[39m []\n\u001b[1;32m---> 49\u001b[0m \u001b[39mwith\u001b[39;00m \u001b[39mopen\u001b[39;49m(csv_path, \u001b[39m'\u001b[39;49m\u001b[39mr\u001b[39;49m\u001b[39m'\u001b[39;49m) \u001b[39mas\u001b[39;00m csvfile:\n\u001b[0;32m     50\u001b[0m     reader \u001b[39m=\u001b[39m csv\u001b[39m.\u001b[39mDictReader(csvfile)\n\u001b[0;32m     51\u001b[0m     \u001b[39mfor\u001b[39;00m row \u001b[39min\u001b[39;00m reader:\n",
      "File \u001b[1;32md:\\GitHub\\ndvi\\get_NDVI_images\\lib\\site-packages\\IPython\\core\\interactiveshell.py:284\u001b[0m, in \u001b[0;36m_modified_open\u001b[1;34m(file, *args, **kwargs)\u001b[0m\n\u001b[0;32m    277\u001b[0m \u001b[39mif\u001b[39;00m file \u001b[39min\u001b[39;00m {\u001b[39m0\u001b[39m, \u001b[39m1\u001b[39m, \u001b[39m2\u001b[39m}:\n\u001b[0;32m    278\u001b[0m     \u001b[39mraise\u001b[39;00m \u001b[39mValueError\u001b[39;00m(\n\u001b[0;32m    279\u001b[0m         \u001b[39mf\u001b[39m\u001b[39m\"\u001b[39m\u001b[39mIPython won\u001b[39m\u001b[39m'\u001b[39m\u001b[39mt let you open fd=\u001b[39m\u001b[39m{\u001b[39;00mfile\u001b[39m}\u001b[39;00m\u001b[39m by default \u001b[39m\u001b[39m\"\u001b[39m\n\u001b[0;32m    280\u001b[0m         \u001b[39m\"\u001b[39m\u001b[39mas it is likely to crash IPython. If you know what you are doing, \u001b[39m\u001b[39m\"\u001b[39m\n\u001b[0;32m    281\u001b[0m         \u001b[39m\"\u001b[39m\u001b[39myou can use builtins\u001b[39m\u001b[39m'\u001b[39m\u001b[39m open.\u001b[39m\u001b[39m\"\u001b[39m\n\u001b[0;32m    282\u001b[0m     )\n\u001b[1;32m--> 284\u001b[0m \u001b[39mreturn\u001b[39;00m io_open(file, \u001b[39m*\u001b[39margs, \u001b[39m*\u001b[39m\u001b[39m*\u001b[39mkwargs)\n",
      "\u001b[1;31mFileNotFoundError\u001b[0m: [Errno 2] No such file or directory: 'GEE_exports/NDVI_timeseries.csv'"
     ]
    }
   ],
   "source": [
    "import ee\n",
    "import matplotlib.pyplot as plt\n",
    "import csv\n",
    "import datetime\n",
    "\n",
    "# Inicializar a API do Earth Engine\n",
    "ee.Initialize()\n",
    "\n",
    "# Definir o polígono de interesse\n",
    "polygon = ee.Geometry.Polygon(\n",
    "    [[[-46.70, -23.60], [-46.65, -23.60], [-46.65, -23.65], [-46.70, -23.65], [-46.70, -23.60]]]\n",
    ")\n",
    "\n",
    "# Definir as datas de início e fim do período\n",
    "start_date = '2023-01-01'\n",
    "end_date = '2023-05-31'\n",
    "\n",
    "# Filtrar as imagens Sentinel-2\n",
    "collection = ee.ImageCollection('COPERNICUS/S2_SR') \\\n",
    "    .filterBounds(polygon) \\\n",
    "    .filterDate(start_date, end_date) \\\n",
    "    .select(['B4', 'B8'])\n",
    "\n",
    "# Calcular o NDVI para cada imagem\n",
    "def calculate_ndvi(image):\n",
    "    ndvi = image.normalizedDifference(['B8', 'B4']).rename('NDVI')\n",
    "    return image.addBands(ndvi)\n",
    "\n",
    "collection_with_ndvi = collection.map(calculate_ndvi)\n",
    "\n",
    "# Exportar a coleção como uma tabela\n",
    "export_table = ee.batch.Export.table.toDrive(\n",
    "    collection=collection_with_ndvi,\n",
    "    description='NDVI_timeseries',\n",
    "    folder='GEE_exports',\n",
    "    fileFormat='CSV'\n",
    ")\n",
    "export_table.start()\n",
    "\n",
    "# Esperar até a exportação ser concluída\n",
    "while export_table.active():\n",
    "    print('Exporting...')\n",
    "\n",
    "# Ler o arquivo CSV exportado\n",
    "csv_path = 'GEE_exports/NDVI_timeseries.csv'\n",
    "ndvi_values = []\n",
    "dates = []\n",
    "\n",
    "with open(csv_path, 'r') as csvfile:\n",
    "    reader = csv.DictReader(csvfile)\n",
    "    for row in reader:\n",
    "        ndvi_values.append(float(row['NDVI']))\n",
    "        dates.append(row['system:index'])\n",
    "\n",
    "# Converter as datas para objetos datetime\n",
    "dates = [datetime.datetime.strptime(date, '%Y%m%dT%H%M%S') for date in dates]\n",
    "\n",
    "# Plotar o gráfico de linhas\n",
    "plt.plot(dates, ndvi_values)\n",
    "plt.xlabel('Data')\n",
    "plt.ylabel('NDVI')\n",
    "plt.title('Série Temporal de NDVI')\n",
    "plt.xticks(rotation=45)\n",
    "plt.tight_layout()\n",
    "plt.show()\n"
   ]
  }
 ],
 "metadata": {
  "kernelspec": {
   "display_name": "get_NDVI_images",
   "language": "python",
   "name": "python3"
  },
  "language_info": {
   "codemirror_mode": {
    "name": "ipython",
    "version": 3
   },
   "file_extension": ".py",
   "mimetype": "text/x-python",
   "name": "python",
   "nbconvert_exporter": "python",
   "pygments_lexer": "ipython3",
   "version": "3.10.2"
  },
  "orig_nbformat": 4
 },
 "nbformat": 4,
 "nbformat_minor": 2
}
